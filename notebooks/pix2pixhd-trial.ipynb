{
 "cells": [
  {
   "cell_type": "markdown",
   "metadata": {},
   "source": [
    "## 1. Import Libs"
   ]
  },
  {
   "cell_type": "code",
   "execution_count": 1,
   "metadata": {},
   "outputs": [],
   "source": [
    "from __future__ import print_function\n",
    "import argparse\n",
    "import os\n",
    "\n",
    "import torch\n",
    "from torch.autograd import Variable\n",
    "import torchvision.transforms as transforms\n",
    "from util import is_image_file, load_img, save_img"
   ]
  },
  {
   "cell_type": "markdown",
   "metadata": {},
   "source": [
    "## 2. Setting Hyperparameters"
   ]
  },
  {
   "cell_type": "code",
   "execution_count": 3,
   "metadata": {},
   "outputs": [
    {
     "name": "stdout",
     "output_type": "stream",
     "text": [
      "Namespace(cuda=True, dataset='facades', model='/home/nisnab/workspace/ImageTranslation/Pix2Pix/save_model/facades/netG_model_epoch_40.pkl')\n"
     ]
    }
   ],
   "source": [
    "parser = argparse.ArgumentParser()\n",
    "parser.add_argument('--dataset', required=False, default='facades', help='facades')\n",
    "parser.add_argument('--model', required=False, type=str, default='/home/nisnab/workspace/ImageTranslation/Pix2Pix/save_model/facades/netG_model_epoch_40.pkl', help='model file to use')\n",
    "parser.add_argument('--cuda', action='store_true', default=True, help='use cuda')\n",
    "params = parser.parse_args([])\n",
    "print(params)"
   ]
  },
  {
   "cell_type": "markdown",
   "metadata": {},
   "source": [
    "## 3. Testing"
   ]
  },
  {
   "cell_type": "code",
   "execution_count": 4,
   "metadata": {
    "scrolled": true
   },
   "outputs": [
    {
     "name": "stderr",
     "output_type": "stream",
     "text": [
      "/home/nisnab/miniconda3/envs/tf_gpu_copy/lib/python3.7/site-packages/ipykernel_launcher.py:14: UserWarning: volatile was removed and now has no effect. Use `with torch.no_grad():` instead.\n",
      "  \n"
     ]
    },
    {
     "name": "stdout",
     "output_type": "stream",
     "text": [
      "Image saved as result/facades/image1042.png\n",
      "Image saved as result/facades/image1032.png\n",
      "Image saved as result/facades/image1040.png\n",
      "Image saved as result/facades/image1037.png\n",
      "Image saved as result/facades/image1036.png\n",
      "Image saved as result/facades/image1030.png\n",
      "Image saved as result/facades/image1019.png\n",
      "Image saved as result/facades/image1045.png\n",
      "Image saved as result/facades/image1021.png\n",
      "Image saved as result/facades/image1046.png\n",
      "Image saved as result/facades/image1005.png\n",
      "Image saved as result/facades/image1026.png\n",
      "Image saved as result/facades/image1016.png\n",
      "Image saved as result/facades/image1038.png\n",
      "Image saved as result/facades/image1014.png\n",
      "Image saved as result/facades/image1018.png\n",
      "Image saved as result/facades/image1022.png\n",
      "Image saved as result/facades/image1002.png\n",
      "Image saved as result/facades/image1035.png\n",
      "Image saved as result/facades/image1020.png\n",
      "Image saved as result/facades/image1050.png\n",
      "Image saved as result/facades/image1010.png\n",
      "Image saved as result/facades/image1011.png\n",
      "Image saved as result/facades/image1008.png\n",
      "Image saved as result/facades/image1033.png\n",
      "Image saved as result/facades/image1004.png\n",
      "Image saved as result/facades/image1031.png\n",
      "Image saved as result/facades/image1041.png\n",
      "Image saved as result/facades/image1009.png\n",
      "Image saved as result/facades/image1024.png\n",
      "Image saved as result/facades/image1044.png\n",
      "Image saved as result/facades/image1015.png\n",
      "Image saved as result/facades/image1043.png\n",
      "Image saved as result/facades/image1025.png\n",
      "Image saved as result/facades/image1049.png\n",
      "Image saved as result/facades/image1013.png\n",
      "Image saved as result/facades/image1039.png\n",
      "Image saved as result/facades/image1029.png\n",
      "Image saved as result/facades/image1012.png\n",
      "Image saved as result/facades/image1048.png\n",
      "Image saved as result/facades/image1034.png\n",
      "Image saved as result/facades/image1027.png\n",
      "Image saved as result/facades/image1007.png\n",
      "Image saved as result/facades/image1017.png\n",
      "Image saved as result/facades/image1028.png\n",
      "Image saved as result/facades/image1003.png\n",
      "Image saved as result/facades/image1023.png\n",
      "Image saved as result/facades/image1006.png\n",
      "Image saved as result/facades/image1047.png\n",
      "Image saved as result/facades/image1001.png\n"
     ]
    }
   ],
   "source": [
    "netG = torch.load(params.model)\n",
    "image_dir = 'dataset/{}/test/a/'.format(params.dataset)\n",
    "image_filenames = [x for x in os.listdir(image_dir) if is_image_file(x)]\n",
    "\n",
    "# Preprocessing\n",
    "transform_list = [transforms.ToTensor(), transforms.Normalize((0.5, 0.5, .5), (.5, .5, .5))]\n",
    "transform = transforms.Compose(transform_list)\n",
    "\n",
    "for image_name in image_filenames:\n",
    "    img = load_img(image_dir + image_name)\n",
    "    img = transform(img)\n",
    "    \n",
    "    # 모델에 맞는 텐서구조로 변경\n",
    "    input = Variable(img, volatile=True).view(1, -1, 256, 256)\n",
    "    \n",
    "    if params.cuda:\n",
    "        netG = netG.cuda()\n",
    "        input = input.cuda()\n",
    "    \n",
    "    out = netG(input)\n",
    "    out = out.cpu()\n",
    "    out_img = out.data[0]\n",
    "    \n",
    "    # generate한 이미지를 저장하는 파일을 생성\n",
    "    if not os.path.exists(os.path.join(\"result\", params.dataset)):\n",
    "        os.mkdir(os.path.join('result', params.dataset))\n",
    "    save_img(out_img, \"result/{}/{}\".format(params.dataset, image_name))"
   ]
  },
  {
   "cell_type": "code",
   "execution_count": null,
   "metadata": {},
   "outputs": [],
   "source": []
  },
  {
   "cell_type": "code",
   "execution_count": null,
   "metadata": {},
   "outputs": [],
   "source": []
  },
  {
   "cell_type": "code",
   "execution_count": null,
   "metadata": {},
   "outputs": [],
   "source": []
  },
  {
   "cell_type": "code",
   "execution_count": null,
   "metadata": {},
   "outputs": [],
   "source": []
  },
  {
   "cell_type": "code",
   "execution_count": null,
   "metadata": {},
   "outputs": [],
   "source": []
  },
  {
   "cell_type": "code",
   "execution_count": null,
   "metadata": {},
   "outputs": [],
   "source": []
  },
  {
   "cell_type": "code",
   "execution_count": null,
   "metadata": {},
   "outputs": [],
   "source": []
  },
  {
   "cell_type": "code",
   "execution_count": null,
   "metadata": {},
   "outputs": [],
   "source": []
  },
  {
   "cell_type": "code",
   "execution_count": null,
   "metadata": {},
   "outputs": [],
   "source": []
  },
  {
   "cell_type": "code",
   "execution_count": null,
   "metadata": {},
   "outputs": [],
   "source": []
  },
  {
   "cell_type": "code",
   "execution_count": null,
   "metadata": {},
   "outputs": [],
   "source": []
  }
 ],
 "metadata": {
  "kernelspec": {
   "display_name": "Python 3",
   "language": "python",
   "name": "python3"
  },
  "language_info": {
   "codemirror_mode": {
    "name": "ipython",
    "version": 3
   },
   "file_extension": ".py",
   "mimetype": "text/x-python",
   "name": "python",
   "nbconvert_exporter": "python",
   "pygments_lexer": "ipython3",
   "version": "3.7.7"
  }
 },
 "nbformat": 4,
 "nbformat_minor": 2
}
