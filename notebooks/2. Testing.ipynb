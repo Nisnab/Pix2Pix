{
 "cells": [
  {
   "cell_type": "markdown",
   "metadata": {},
   "source": [
    "## 1. Import Libs"
   ]
  },
  {
   "cell_type": "code",
   "execution_count": 17,
   "metadata": {},
   "outputs": [],
   "source": [
    "from __future__ import print_function\n",
    "import argparse\n",
    "import os\n",
    "\n",
    "import torch\n",
    "from torch.autograd import Variable\n",
    "import torchvision.transforms as transforms\n",
    "from util import is_image_file, load_img, save_img"
   ]
  },
  {
   "cell_type": "markdown",
   "metadata": {},
   "source": [
    "## 2. Setting Hyperparameters"
   ]
  },
  {
   "cell_type": "code",
   "execution_count": 18,
   "metadata": {},
   "outputs": [
    {
     "name": "stdout",
     "output_type": "stream",
     "text": [
      "Namespace(cuda=True, dataset='facades', model='save_model/facades/netG_model_epoch_500.pkl')\n"
     ]
    }
   ],
   "source": [
    "parser = argparse.ArgumentParser()\n",
    "parser.add_argument('--dataset', required=False, default='facades', help='facades')\n",
    "parser.add_argument('--model', required=False, type=str, default='save_model/facades/netG_model_epoch_500.pkl', help='model file to use')\n",
    "parser.add_argument('--cuda', action='store_true', default=True, help='use cuda')\n",
    "params = parser.parse_args([])\n",
    "print(params)"
   ]
  },
  {
   "cell_type": "markdown",
   "metadata": {},
   "source": [
    "## 3. Testing"
   ]
  },
  {
   "cell_type": "code",
   "execution_count": 19,
   "metadata": {},
   "outputs": [],
   "source": [
    "netG = torch.load(params.model)"
   ]
  },
  {
   "cell_type": "code",
   "execution_count": 20,
   "metadata": {
    "scrolled": false
   },
   "outputs": [
    {
     "name": "stderr",
     "output_type": "stream",
     "text": [
      "/home/nisnab/miniconda3/envs/tf_gpu_copy/lib/python3.7/site-packages/ipykernel_launcher.py:13: UserWarning: volatile was removed and now has no effect. Use `with torch.no_grad():` instead.\n",
      "  del sys.path[0]\n"
     ]
    },
    {
     "name": "stdout",
     "output_type": "stream",
     "text": [
      "Image saved as result/facades/image1072.png\n",
      "Image saved as result/facades/image1075.png\n",
      "Image saved as result/facades/image1069.png\n",
      "Image saved as result/facades/image1061.png\n",
      "Image saved as result/facades/image1062.png\n",
      "Image saved as result/facades/image1057.png\n",
      "Image saved as result/facades/image1056.png\n",
      "Image saved as result/facades/image1068.png\n",
      "Image saved as result/facades/image1066.png\n",
      "Image saved as result/facades/image1073.png\n",
      "Image saved as result/facades/image1064.png\n",
      "Image saved as result/facades/image1067.png\n",
      "Image saved as result/facades/image1070.png\n",
      "Image saved as result/facades/image1055.png\n",
      "Image saved as result/facades/image1058.png\n",
      "Image saved as result/facades/image1074.png\n",
      "Image saved as result/facades/image1071.png\n",
      "Image saved as result/facades/image1065.png\n",
      "Image saved as result/facades/image1063.png\n",
      "Image saved as result/facades/image1059.png\n",
      "Image saved as result/facades/image1060.png\n"
     ]
    }
   ],
   "source": [
    "image_dir = 'dataset/{}/test/a/'.format(params.dataset)\n",
    "image_filenames = [x for x in os.listdir(image_dir) if is_image_file(x)]\n",
    "\n",
    "# Preprocessing\n",
    "transform_list = [transforms.ToTensor(), transforms.Normalize((0.5, 0.5, .5), (.5, .5, .5))]\n",
    "transform = transforms.Compose(transform_list)\n",
    "\n",
    "for image_name in image_filenames:\n",
    "    img = load_img(image_dir + image_name)\n",
    "    img = transform(img)\n",
    "    \n",
    "    # 모델에 맞는 텐서구조로 변경\n",
    "    input = Variable(img, volatile=True).view(1, -1, 256, 256)\n",
    "    \n",
    "    if params.cuda:\n",
    "        netG = netG.cuda()\n",
    "        input = input.cuda()\n",
    "    \n",
    "    out = netG(input)\n",
    "    out = out.cpu()\n",
    "    out_img = out.data[0]\n",
    "    \n",
    "    # generate한 이미지를 저장하는 파일을 생성\n",
    "    if not os.path.exists(os.path.join(\"result\", params.dataset)):\n",
    "        os.mkdir(os.path.join('result', params.dataset))\n",
    "    save_img(out_img, \"result/{}/{}\".format(params.dataset, image_name))"
   ]
  },
  {
   "cell_type": "code",
   "execution_count": null,
   "metadata": {},
   "outputs": [],
   "source": []
  },
  {
   "cell_type": "code",
   "execution_count": null,
   "metadata": {},
   "outputs": [],
   "source": []
  },
  {
   "cell_type": "code",
   "execution_count": null,
   "metadata": {},
   "outputs": [],
   "source": []
  },
  {
   "cell_type": "code",
   "execution_count": null,
   "metadata": {},
   "outputs": [],
   "source": []
  },
  {
   "cell_type": "code",
   "execution_count": null,
   "metadata": {},
   "outputs": [],
   "source": []
  },
  {
   "cell_type": "code",
   "execution_count": null,
   "metadata": {},
   "outputs": [],
   "source": []
  },
  {
   "cell_type": "code",
   "execution_count": null,
   "metadata": {},
   "outputs": [],
   "source": []
  },
  {
   "cell_type": "code",
   "execution_count": null,
   "metadata": {},
   "outputs": [],
   "source": []
  },
  {
   "cell_type": "code",
   "execution_count": null,
   "metadata": {},
   "outputs": [],
   "source": []
  },
  {
   "cell_type": "code",
   "execution_count": null,
   "metadata": {},
   "outputs": [],
   "source": []
  },
  {
   "cell_type": "code",
   "execution_count": null,
   "metadata": {},
   "outputs": [],
   "source": []
  }
 ],
 "metadata": {
  "kernelspec": {
   "display_name": "Python 3",
   "language": "python",
   "name": "python3"
  },
  "language_info": {
   "codemirror_mode": {
    "name": "ipython",
    "version": 3
   },
   "file_extension": ".py",
   "mimetype": "text/x-python",
   "name": "python",
   "nbconvert_exporter": "python",
   "pygments_lexer": "ipython3",
   "version": "3.7.7"
  }
 },
 "nbformat": 4,
 "nbformat_minor": 2
}
